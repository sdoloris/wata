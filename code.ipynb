{
 "cells": [
  {
   "cell_type": "code",
   "execution_count": 1,
   "metadata": {},
   "outputs": [],
   "source": [
    "def removeStopWords(text, stoplist):\n",
    "    return ' '.join([i for i in text.split() if i not in stoplist])"
   ]
  },
  {
   "cell_type": "code",
   "execution_count": 2,
   "metadata": {},
   "outputs": [
    {
     "name": "stdout",
     "output_type": "stream",
     "text": [
      "My cat beautiful even though give fuck\n"
     ]
    }
   ],
   "source": [
    "# Example of removing stopwords :\n",
    "text = \"My cat is very beautiful even though it does not give a fuck about me\"\n",
    "stoplist = open(\"stoplist.txt\", \"r\").read().split()\n",
    "print(removeStopWords(text, stoplist))"
   ]
  },
  {
   "cell_type": "code",
   "execution_count": 3,
   "metadata": {},
   "outputs": [],
   "source": [
    "import string\n",
    "def removePunctuation(text):\n",
    "    return text.translate(str.maketrans(\"\",\"\", string.punctuation))"
   ]
  },
  {
   "cell_type": "code",
   "execution_count": 4,
   "metadata": {},
   "outputs": [
    {
     "name": "stdout",
     "output_type": "stream",
     "text": [
      "This is a text with punctuation \n"
     ]
    }
   ],
   "source": [
    "print(removePunctuation(\"This, is. a text! with?// punctuation !!!\"))"
   ]
  },
  {
   "cell_type": "code",
   "execution_count": 5,
   "metadata": {},
   "outputs": [
    {
     "name": "stdout",
     "output_type": "stream",
     "text": [
      "to lower case testtttt\n"
     ]
    }
   ],
   "source": [
    "print(\"TO LOWER CASe TestTTTT\".lower())"
   ]
  },
  {
   "cell_type": "code",
   "execution_count": 6,
   "metadata": {},
   "outputs": [],
   "source": [
    "def preprocess(text, stoplist):\n",
    "    # Removing stop words\n",
    "    text = ' '.join([i for i in text.split() if i not in stoplist])\n",
    "    \n",
    "    # Removing punctuation\n",
    "    text = text.translate(str.maketrans(\"\",\"\", string.punctuation))\n",
    "    \n",
    "    return text.lower()"
   ]
  },
  {
   "cell_type": "markdown",
   "metadata": {},
   "source": [
    "## Let us build the dataset"
   ]
  },
  {
   "cell_type": "code",
   "execution_count": 7,
   "metadata": {
    "scrolled": false
   },
   "outputs": [
    {
     "name": "stdout",
     "output_type": "stream",
     "text": [
      "                                                    doc label\n",
      "0     films adapted comic books plenty success  whet...     1\n",
      "1     every now movie comes along suspect studio  ev...     1\n",
      "2     got mail works alot better deserves  order mak...     1\n",
      "3      jaws  rare film grabs attention shows single ...     1\n",
      "4     moviemaking lot like general manager nfl team ...     1\n",
      "5     june 30  1960  selftaught  idealistic  yet pra...     1\n",
      "6     apparently  director tony kaye major battle ne...     1\n",
      "7     one colleagues surprised told willing see bets...     1\n",
      "8     bloody clashes independence won  lumumba refus...     1\n",
      "9     american action film slowly drowning death sea...     1\n",
      "10    watching  rat race  last week  noticed cheeks ...     1\n",
      "11    noticed something lately never thought  pseudo...     1\n",
      "12    synopsis  bobby garfield  yelchin  lives small...     1\n",
      "13    synopsis  movie  steven spielberg  one todays ...     1\n",
      "14    police negotiator person entirely unenviable j...     1\n",
      "15    plot  young man loves heavy metal music especi...     1\n",
      "16    carry matron last great carryon film opinion  ...     1\n",
      "17    ultimate match good evil   untouchables  excel...     1\n",
      "18    seen   framed roger rabbit  10 years  remember...     1\n",
      "19    something ben stiller makes popular choice amo...     1\n",
      "20    phil curtolo mel gibson  braveheart  gave grip...     1\n",
      "21    one can observe star trek movie expect see ser...     1\n",
      "22    fully loaded entertainment review  website com...     1\n",
      "23    bulworth ended  allowed sigh relief   possible...     1\n",
      "24    call 911 cliche police must  eyes window soul ...     1\n",
      "25    hilarious  ultralow budget comedy film school ...     1\n",
      "26    us yet born 1960s rock n rolled around  monter...     1\n",
      "27    common  many cases  complaint francis ford cop...     1\n",
      "28     blair witch project  perhaps one kind  unique...     1\n",
      "29    seen may 31  1999 home video  rented   one bes...     1\n",
      "...                                                 ...   ...\n",
      "1970   disney sticktowhatyoudobest  rule states disn...     0\n",
      "1971  twin surfer dudes  stew phil deedle  lay banda...     0\n",
      "1972  bicentennial man family film without external ...     0\n",
      "1973  continuation warner brothers franchise  joel s...     0\n",
      "1974  long ago  films constructed strong dialogue  o...     0\n",
      "1975  stars  armand assante  mike hammer   barbara c...     0\n",
      "1976  nostalgia 70s continues  see revival one decad...     0\n",
      "1977  saw film christmas day expecting upbeat comedy...     0\n",
      "1978  anna king least fourth film adaptation margare...     0\n",
      "1979  robin hood  men tights another melbrooksproduc...     0\n",
      "1980  successful books movies  michael crichton well...     0\n",
      "1981  director luis mandokis last film superb  serio...     0\n",
      "1982  remember really enjoying movie saw years ago  ...     0\n",
      "1983  tommy lee jones chases innocent victim around ...     0\n",
      "1984  fond writers use cheap  easy puns  completely ...     0\n",
      "1985  boy  great movie   keanu reeves morgan freeman...     0\n",
      "1986  us think leslie nielsen bumbling  hapless stra...     0\n",
      "1987  please mind windbag letting bit steam    just ...     0\n",
      "1988  movie written man deemed  one hottest writers ...     0\n",
      "1989  typical cinematic high school  football jocks ...     0\n",
      "1990  man  one wierd movie  similar conspiracy theor...     0\n",
      "1991  king  warner brothers animated  musical featur...     0\n",
      "1992  synopsis  cromagnon ayla loses mother earthqua...     0\n",
      "1993  salaries hollywood top actors getting obscenel...     0\n",
      "1994  movies like six days  seven nights make mad ta...     0\n",
      "1995  anything   stigmata  taken warning releasing s...     0\n",
      "1996  john boormans  zardoz  goofy cinematic debacle...     0\n",
      "1997  kids hall acquired taste  took least season wa...     0\n",
      "1998  time john carpenter great horror director  cou...     0\n",
      "1999  two party guys bob heads haddaways dance hit  ...     0\n",
      "\n",
      "[2000 rows x 2 columns]\n"
     ]
    }
   ],
   "source": [
    "import os, sys\n",
    "import pandas as pd\n",
    "\n",
    "corpus = pd.DataFrame(columns=['doc', 'label'])\n",
    "\n",
    "stoplist = open(\"stoplist.txt\", \"r\").read().split()\n",
    "\n",
    "for file_name in os.listdir('./txt_sentoken/pos'):\n",
    "    file = open('./txt_sentoken/pos/' + file_name)\n",
    "    corpus = corpus.append(pd.DataFrame({'doc':[preprocess(file.read(), stoplist)], 'label':[1]}), ignore_index=True)\n",
    "\n",
    "    \n",
    "for file_name in os.listdir('./txt_sentoken/neg'):\n",
    "    file = open('./txt_sentoken/neg/' + file_name)\n",
    "    corpus = corpus.append(pd.DataFrame({'doc':[preprocess(file.read(), stoplist)], 'label':[0]}), ignore_index=True)\n",
    "\n",
    "print(corpus)\n"
   ]
  },
  {
   "cell_type": "code",
   "execution_count": 14,
   "metadata": {},
   "outputs": [
    {
     "data": {
      "text/plain": [
       "0.5"
      ]
     },
     "execution_count": 14,
     "metadata": {},
     "output_type": "execute_result"
    }
   ],
   "source": [
    "def tf(term, document):\n",
    "    document = document.split()\n",
    "    return document.count(term)/len(document)\n",
    "\n",
    "tf('tree', preprocess(\"this is a tree, and a big tree, not a three\", stoplist))"
   ]
  },
  {
   "cell_type": "code",
   "execution_count": 22,
   "metadata": {},
   "outputs": [],
   "source": [
    "import numpy as np\n",
    "\n",
    "def idf(term, corpus):\n",
    "    return np.log(len(corpus)/(1+len(corpus[corpus.str.contains(term)])))"
   ]
  },
  {
   "cell_type": "code",
   "execution_count": 23,
   "metadata": {},
   "outputs": [
    {
     "name": "stdout",
     "output_type": "stream",
     "text": [
      "start1\n",
      "start\n"
     ]
    },
    {
     "ename": "KeyboardInterrupt",
     "evalue": "",
     "output_type": "error",
     "traceback": [
      "\u001b[1;31m---------------------------------------------------------------------------\u001b[0m",
      "\u001b[1;31mKeyboardInterrupt\u001b[0m                         Traceback (most recent call last)",
      "\u001b[1;32m<ipython-input-23-3f10727d1406>\u001b[0m in \u001b[0;36m<module>\u001b[1;34m\u001b[0m\n\u001b[0;32m     29\u001b[0m \u001b[1;33m\u001b[0m\u001b[0m\n\u001b[0;32m     30\u001b[0m \u001b[1;33m\u001b[0m\u001b[0m\n\u001b[1;32m---> 31\u001b[1;33m \u001b[0mtfidf\u001b[0m \u001b[1;33m=\u001b[0m  \u001b[0mtf_idf\u001b[0m\u001b[1;33m(\u001b[0m\u001b[0mcorpus\u001b[0m\u001b[1;33m)\u001b[0m\u001b[1;33m\u001b[0m\u001b[0m\n\u001b[0m",
      "\u001b[1;32m<ipython-input-23-3f10727d1406>\u001b[0m in \u001b[0;36mtf_idf\u001b[1;34m(corpus)\u001b[0m\n\u001b[0;32m     15\u001b[0m     \u001b[0midfs\u001b[0m \u001b[1;33m=\u001b[0m \u001b[1;33m{\u001b[0m\u001b[1;33m}\u001b[0m\u001b[1;33m\u001b[0m\u001b[0m\n\u001b[0;32m     16\u001b[0m     \u001b[1;32mfor\u001b[0m \u001b[0mword\u001b[0m \u001b[1;32min\u001b[0m \u001b[0mwords\u001b[0m\u001b[1;33m:\u001b[0m\u001b[1;33m\u001b[0m\u001b[0m\n\u001b[1;32m---> 17\u001b[1;33m         \u001b[0midfs\u001b[0m\u001b[1;33m[\u001b[0m\u001b[0mword\u001b[0m\u001b[1;33m]\u001b[0m \u001b[1;33m=\u001b[0m \u001b[0midf\u001b[0m\u001b[1;33m(\u001b[0m\u001b[0mword\u001b[0m\u001b[1;33m,\u001b[0m \u001b[0mcorpus\u001b[0m\u001b[1;33m)\u001b[0m\u001b[1;33m\u001b[0m\u001b[0m\n\u001b[0m\u001b[0;32m     18\u001b[0m \u001b[1;33m\u001b[0m\u001b[0m\n\u001b[0;32m     19\u001b[0m     \u001b[0mprint\u001b[0m\u001b[1;33m(\u001b[0m\u001b[1;34m'started tf_idf'\u001b[0m\u001b[1;33m)\u001b[0m\u001b[1;33m\u001b[0m\u001b[0m\n",
      "\u001b[1;32m<ipython-input-22-0a05df05af47>\u001b[0m in \u001b[0;36midf\u001b[1;34m(term, corpus)\u001b[0m\n\u001b[0;32m      2\u001b[0m \u001b[1;33m\u001b[0m\u001b[0m\n\u001b[0;32m      3\u001b[0m \u001b[1;32mdef\u001b[0m \u001b[0midf\u001b[0m\u001b[1;33m(\u001b[0m\u001b[0mterm\u001b[0m\u001b[1;33m,\u001b[0m \u001b[0mcorpus\u001b[0m\u001b[1;33m)\u001b[0m\u001b[1;33m:\u001b[0m\u001b[1;33m\u001b[0m\u001b[0m\n\u001b[1;32m----> 4\u001b[1;33m     \u001b[1;32mreturn\u001b[0m \u001b[0mnp\u001b[0m\u001b[1;33m.\u001b[0m\u001b[0mlog\u001b[0m\u001b[1;33m(\u001b[0m\u001b[0mlen\u001b[0m\u001b[1;33m(\u001b[0m\u001b[0mcorpus\u001b[0m\u001b[1;33m)\u001b[0m\u001b[1;33m/\u001b[0m\u001b[1;33m(\u001b[0m\u001b[1;36m1\u001b[0m\u001b[1;33m+\u001b[0m\u001b[0mlen\u001b[0m\u001b[1;33m(\u001b[0m\u001b[0mcorpus\u001b[0m\u001b[1;33m[\u001b[0m\u001b[0mcorpus\u001b[0m\u001b[1;33m.\u001b[0m\u001b[0mstr\u001b[0m\u001b[1;33m.\u001b[0m\u001b[0mcontains\u001b[0m\u001b[1;33m(\u001b[0m\u001b[0mterm\u001b[0m\u001b[1;33m)\u001b[0m\u001b[1;33m]\u001b[0m\u001b[1;33m)\u001b[0m\u001b[1;33m)\u001b[0m\u001b[1;33m)\u001b[0m\u001b[1;33m\u001b[0m\u001b[0m\n\u001b[0m",
      "\u001b[1;32mc:\\users\\sdolo\\appdata\\local\\programs\\python\\python36\\lib\\site-packages\\pandas\\core\\strings.py\u001b[0m in \u001b[0;36mcontains\u001b[1;34m(self, pat, case, flags, na, regex)\u001b[0m\n\u001b[0;32m   2415\u001b[0m     \u001b[1;32mdef\u001b[0m \u001b[0mcontains\u001b[0m\u001b[1;33m(\u001b[0m\u001b[0mself\u001b[0m\u001b[1;33m,\u001b[0m \u001b[0mpat\u001b[0m\u001b[1;33m,\u001b[0m \u001b[0mcase\u001b[0m\u001b[1;33m=\u001b[0m\u001b[1;32mTrue\u001b[0m\u001b[1;33m,\u001b[0m \u001b[0mflags\u001b[0m\u001b[1;33m=\u001b[0m\u001b[1;36m0\u001b[0m\u001b[1;33m,\u001b[0m \u001b[0mna\u001b[0m\u001b[1;33m=\u001b[0m\u001b[0mnp\u001b[0m\u001b[1;33m.\u001b[0m\u001b[0mnan\u001b[0m\u001b[1;33m,\u001b[0m \u001b[0mregex\u001b[0m\u001b[1;33m=\u001b[0m\u001b[1;32mTrue\u001b[0m\u001b[1;33m)\u001b[0m\u001b[1;33m:\u001b[0m\u001b[1;33m\u001b[0m\u001b[0m\n\u001b[0;32m   2416\u001b[0m         result = str_contains(self._data, pat, case=case, flags=flags, na=na,\n\u001b[1;32m-> 2417\u001b[1;33m                               regex=regex)\n\u001b[0m\u001b[0;32m   2418\u001b[0m         \u001b[1;32mreturn\u001b[0m \u001b[0mself\u001b[0m\u001b[1;33m.\u001b[0m\u001b[0m_wrap_result\u001b[0m\u001b[1;33m(\u001b[0m\u001b[0mresult\u001b[0m\u001b[1;33m)\u001b[0m\u001b[1;33m\u001b[0m\u001b[0m\n\u001b[0;32m   2419\u001b[0m \u001b[1;33m\u001b[0m\u001b[0m\n",
      "\u001b[1;32mc:\\users\\sdolo\\appdata\\local\\programs\\python\\python36\\lib\\site-packages\\pandas\\core\\strings.py\u001b[0m in \u001b[0;36mstr_contains\u001b[1;34m(arr, pat, case, flags, na, regex)\u001b[0m\n\u001b[0;32m    401\u001b[0m             \u001b[0muppered\u001b[0m \u001b[1;33m=\u001b[0m \u001b[0m_na_map\u001b[0m\u001b[1;33m(\u001b[0m\u001b[1;32mlambda\u001b[0m \u001b[0mx\u001b[0m\u001b[1;33m:\u001b[0m \u001b[0mx\u001b[0m\u001b[1;33m.\u001b[0m\u001b[0mupper\u001b[0m\u001b[1;33m(\u001b[0m\u001b[1;33m)\u001b[0m\u001b[1;33m,\u001b[0m \u001b[0marr\u001b[0m\u001b[1;33m)\u001b[0m\u001b[1;33m\u001b[0m\u001b[0m\n\u001b[0;32m    402\u001b[0m             \u001b[1;32mreturn\u001b[0m \u001b[0m_na_map\u001b[0m\u001b[1;33m(\u001b[0m\u001b[0mf\u001b[0m\u001b[1;33m,\u001b[0m \u001b[0muppered\u001b[0m\u001b[1;33m,\u001b[0m \u001b[0mna\u001b[0m\u001b[1;33m,\u001b[0m \u001b[0mdtype\u001b[0m\u001b[1;33m=\u001b[0m\u001b[0mbool\u001b[0m\u001b[1;33m)\u001b[0m\u001b[1;33m\u001b[0m\u001b[0m\n\u001b[1;32m--> 403\u001b[1;33m     \u001b[1;32mreturn\u001b[0m \u001b[0m_na_map\u001b[0m\u001b[1;33m(\u001b[0m\u001b[0mf\u001b[0m\u001b[1;33m,\u001b[0m \u001b[0marr\u001b[0m\u001b[1;33m,\u001b[0m \u001b[0mna\u001b[0m\u001b[1;33m,\u001b[0m \u001b[0mdtype\u001b[0m\u001b[1;33m=\u001b[0m\u001b[0mbool\u001b[0m\u001b[1;33m)\u001b[0m\u001b[1;33m\u001b[0m\u001b[0m\n\u001b[0m\u001b[0;32m    404\u001b[0m \u001b[1;33m\u001b[0m\u001b[0m\n\u001b[0;32m    405\u001b[0m \u001b[1;33m\u001b[0m\u001b[0m\n",
      "\u001b[1;32mc:\\users\\sdolo\\appdata\\local\\programs\\python\\python36\\lib\\site-packages\\pandas\\core\\strings.py\u001b[0m in \u001b[0;36m_na_map\u001b[1;34m(f, arr, na_result, dtype)\u001b[0m\n\u001b[0;32m    148\u001b[0m \u001b[1;32mdef\u001b[0m \u001b[0m_na_map\u001b[0m\u001b[1;33m(\u001b[0m\u001b[0mf\u001b[0m\u001b[1;33m,\u001b[0m \u001b[0marr\u001b[0m\u001b[1;33m,\u001b[0m \u001b[0mna_result\u001b[0m\u001b[1;33m=\u001b[0m\u001b[0mnp\u001b[0m\u001b[1;33m.\u001b[0m\u001b[0mnan\u001b[0m\u001b[1;33m,\u001b[0m \u001b[0mdtype\u001b[0m\u001b[1;33m=\u001b[0m\u001b[0mobject\u001b[0m\u001b[1;33m)\u001b[0m\u001b[1;33m:\u001b[0m\u001b[1;33m\u001b[0m\u001b[0m\n\u001b[0;32m    149\u001b[0m     \u001b[1;31m# should really _check_ for NA\u001b[0m\u001b[1;33m\u001b[0m\u001b[1;33m\u001b[0m\u001b[0m\n\u001b[1;32m--> 150\u001b[1;33m     \u001b[1;32mreturn\u001b[0m \u001b[0m_map\u001b[0m\u001b[1;33m(\u001b[0m\u001b[0mf\u001b[0m\u001b[1;33m,\u001b[0m \u001b[0marr\u001b[0m\u001b[1;33m,\u001b[0m \u001b[0mna_mask\u001b[0m\u001b[1;33m=\u001b[0m\u001b[1;32mTrue\u001b[0m\u001b[1;33m,\u001b[0m \u001b[0mna_value\u001b[0m\u001b[1;33m=\u001b[0m\u001b[0mna_result\u001b[0m\u001b[1;33m,\u001b[0m \u001b[0mdtype\u001b[0m\u001b[1;33m=\u001b[0m\u001b[0mdtype\u001b[0m\u001b[1;33m)\u001b[0m\u001b[1;33m\u001b[0m\u001b[0m\n\u001b[0m\u001b[0;32m    151\u001b[0m \u001b[1;33m\u001b[0m\u001b[0m\n\u001b[0;32m    152\u001b[0m \u001b[1;33m\u001b[0m\u001b[0m\n",
      "\u001b[1;32mc:\\users\\sdolo\\appdata\\local\\programs\\python\\python36\\lib\\site-packages\\pandas\\core\\strings.py\u001b[0m in \u001b[0;36m_map\u001b[1;34m(f, arr, na_mask, na_value, dtype)\u001b[0m\n\u001b[0;32m    163\u001b[0m         \u001b[1;32mtry\u001b[0m\u001b[1;33m:\u001b[0m\u001b[1;33m\u001b[0m\u001b[0m\n\u001b[0;32m    164\u001b[0m             \u001b[0mconvert\u001b[0m \u001b[1;33m=\u001b[0m \u001b[1;32mnot\u001b[0m \u001b[0mall\u001b[0m\u001b[1;33m(\u001b[0m\u001b[0mmask\u001b[0m\u001b[1;33m)\u001b[0m\u001b[1;33m\u001b[0m\u001b[0m\n\u001b[1;32m--> 165\u001b[1;33m             \u001b[0mresult\u001b[0m \u001b[1;33m=\u001b[0m \u001b[0mlib\u001b[0m\u001b[1;33m.\u001b[0m\u001b[0mmap_infer_mask\u001b[0m\u001b[1;33m(\u001b[0m\u001b[0marr\u001b[0m\u001b[1;33m,\u001b[0m \u001b[0mf\u001b[0m\u001b[1;33m,\u001b[0m \u001b[0mmask\u001b[0m\u001b[1;33m.\u001b[0m\u001b[0mview\u001b[0m\u001b[1;33m(\u001b[0m\u001b[0mnp\u001b[0m\u001b[1;33m.\u001b[0m\u001b[0muint8\u001b[0m\u001b[1;33m)\u001b[0m\u001b[1;33m,\u001b[0m \u001b[0mconvert\u001b[0m\u001b[1;33m)\u001b[0m\u001b[1;33m\u001b[0m\u001b[0m\n\u001b[0m\u001b[0;32m    166\u001b[0m         \u001b[1;32mexcept\u001b[0m \u001b[1;33m(\u001b[0m\u001b[0mTypeError\u001b[0m\u001b[1;33m,\u001b[0m \u001b[0mAttributeError\u001b[0m\u001b[1;33m)\u001b[0m \u001b[1;32mas\u001b[0m \u001b[0me\u001b[0m\u001b[1;33m:\u001b[0m\u001b[1;33m\u001b[0m\u001b[0m\n\u001b[0;32m    167\u001b[0m             \u001b[1;31m# Reraise the exception if callable `f` got wrong number of args.\u001b[0m\u001b[1;33m\u001b[0m\u001b[1;33m\u001b[0m\u001b[0m\n",
      "\u001b[1;32mpandas/_libs/src\\inference.pyx\u001b[0m in \u001b[0;36mpandas._libs.lib.map_infer_mask\u001b[1;34m()\u001b[0m\n",
      "\u001b[1;32mc:\\users\\sdolo\\appdata\\local\\programs\\python\\python36\\lib\\site-packages\\pandas\\core\\strings.py\u001b[0m in \u001b[0;36m<lambda>\u001b[1;34m(x)\u001b[0m\n\u001b[0;32m    392\u001b[0m                           stacklevel=3)\n\u001b[0;32m    393\u001b[0m \u001b[1;33m\u001b[0m\u001b[0m\n\u001b[1;32m--> 394\u001b[1;33m         \u001b[0mf\u001b[0m \u001b[1;33m=\u001b[0m \u001b[1;32mlambda\u001b[0m \u001b[0mx\u001b[0m\u001b[1;33m:\u001b[0m \u001b[0mbool\u001b[0m\u001b[1;33m(\u001b[0m\u001b[0mregex\u001b[0m\u001b[1;33m.\u001b[0m\u001b[0msearch\u001b[0m\u001b[1;33m(\u001b[0m\u001b[0mx\u001b[0m\u001b[1;33m)\u001b[0m\u001b[1;33m)\u001b[0m\u001b[1;33m\u001b[0m\u001b[0m\n\u001b[0m\u001b[0;32m    395\u001b[0m     \u001b[1;32melse\u001b[0m\u001b[1;33m:\u001b[0m\u001b[1;33m\u001b[0m\u001b[0m\n\u001b[0;32m    396\u001b[0m         \u001b[1;32mif\u001b[0m \u001b[0mcase\u001b[0m\u001b[1;33m:\u001b[0m\u001b[1;33m\u001b[0m\u001b[0m\n",
      "\u001b[1;31mKeyboardInterrupt\u001b[0m: "
     ]
    }
   ],
   "source": [
    "import pandas as pd\n",
    "\n",
    "def tf_idf(corpus):\n",
    "    def split_doc(doc):\n",
    "        return doc.split()\n",
    "    corpus = corpus['doc'].apply(split_doc)\n",
    "    print('start1')\n",
    "    words = set()\n",
    "    for doc in corpus:\n",
    "        for word in doc:\n",
    "            words.add(word)\n",
    "    \n",
    "    tf_idfs = pd.DataFrame(index=range(0,corpus.shape[0]-1), columns=words)\n",
    "    print(\"start\")\n",
    "    idfs = {}\n",
    "    for word in words:\n",
    "        idfs[word] = idf(word, corpus)\n",
    "    \n",
    "    print('started tf_idf')\n",
    "    \n",
    "    for doc_idx in range(0, corpus.shape[0]):\n",
    "        print(doc_idx)\n",
    "        doc = corpus.iloc[doc_idx]\n",
    "        for word in words:\n",
    "            tf_idfs.at[doc_idx, word] = tf(word, doc) * idfs[word]\n",
    "    print('finished')\n",
    "            \n",
    "    return tf_idfs\n",
    "        \n",
    "    \n",
    "tfidf =  tf_idf(corpus)"
   ]
  },
  {
   "cell_type": "code",
   "execution_count": 44,
   "metadata": {},
   "outputs": [
    {
     "name": "stdout",
     "output_type": "stream",
     "text": [
      "00                      0.000215\n",
      "000                     0.001967\n",
      "0009f                   0.000031\n",
      "000acre                 0.000037\n",
      "000aweek                0.000064\n",
      "000foot                 0.000032\n",
      "000paltry               0.000028\n",
      "007                     0.000311\n",
      "007esque                0.000031\n",
      "00s                     0.000023\n",
      "010                     0.000029\n",
      "03                      0.000037\n",
      "04                      0.000019\n",
      "05                      0.000095\n",
      "05425                   0.000019\n",
      "10                      0.002688\n",
      "100                     0.001508\n",
      "1000                    0.000336\n",
      "10000                   0.000030\n",
      "100m                    0.000136\n",
      "100minute               0.000122\n",
      "101                     0.000516\n",
      "1010                    0.000599\n",
      "101yearold              0.000027\n",
      "102                     0.000331\n",
      "102minute               0.000081\n",
      "103                     0.000116\n",
      "103196                  0.000042\n",
      "103minute               0.000038\n",
      "104minute               0.000033\n",
      "                          ...   \n",
      "zoolander               0.000396\n",
      "zoolanders              0.000072\n",
      "zoolike                 0.000029\n",
      "zoologist               0.000075\n",
      "zoom                    0.000035\n",
      "zooming                 0.000128\n",
      "zoomins                 0.000069\n",
      "zoomout                 0.000032\n",
      "zoomouts                0.000027\n",
      "zooms                   0.000414\n",
      "zoot                    0.000135\n",
      "zophres                 0.000027\n",
      "zorg                    0.000062\n",
      "zorro                   0.000312\n",
      "zorros                  0.000041\n",
      "zs                      0.000056\n",
      "zsigmond                0.000077\n",
      "zucker                  0.000412\n",
      "zuckerabrahamszucker    0.000045\n",
      "zuehlke                 0.000076\n",
      "zuko                    0.000120\n",
      "zukovsky                0.000025\n",
      "zulu                    0.000038\n",
      "zundel                  0.000085\n",
      "zurgs                   0.000023\n",
      "zweibel                 0.000033\n",
      "zwick                   0.000377\n",
      "zwicks                  0.000189\n",
      "zwigoffs                0.000066\n",
      "zycie                   0.000078\n",
      "Length: 47422, dtype: float64\n"
     ]
    }
   ],
   "source": [
    "from sklearn.feature_extraction.text import TfidfVectorizer\n",
    "import pandas as pd\n",
    "\n",
    "vectorizer = TfidfVectorizer()\n",
    "tfidf = vectorizer.fit_transform(corpus['doc'])\n",
    "\n",
    "tfidf_df = pd.DataFrame(tfidf.toarray(),columns=vectorizer.get_feature_names())\n",
    "print(tfidf_df.mean())\n",
    "#print(tfidf_df.sum(axis=0).sort_values(ascending=False))"
   ]
  },
  {
   "cell_type": "code",
   "execution_count": null,
   "metadata": {},
   "outputs": [],
   "source": []
  }
 ],
 "metadata": {
  "kernelspec": {
   "display_name": "Python 3",
   "language": "python",
   "name": "python3"
  },
  "language_info": {
   "codemirror_mode": {
    "name": "ipython",
    "version": 3
   },
   "file_extension": ".py",
   "mimetype": "text/x-python",
   "name": "python",
   "nbconvert_exporter": "python",
   "pygments_lexer": "ipython3",
   "version": "3.6.5"
  }
 },
 "nbformat": 4,
 "nbformat_minor": 2
}
