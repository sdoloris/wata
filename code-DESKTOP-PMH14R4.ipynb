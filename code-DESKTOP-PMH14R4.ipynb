{
 "cells": [
  {
   "cell_type": "code",
   "execution_count": 1,
   "metadata": {},
   "outputs": [],
   "source": [
    "def removeStopWords(text, stoplist):\n",
    "    return ' '.join([i for i in text.split() if i not in stoplist])"
   ]
  },
  {
   "cell_type": "code",
   "execution_count": 2,
   "metadata": {},
   "outputs": [
    {
     "name": "stdout",
     "output_type": "stream",
     "text": [
      "My cat beautiful even though give fuck\n"
     ]
    }
   ],
   "source": [
    "# Example of removing stopwords :\n",
    "text = \"My cat is very beautiful even though it does not give a fuck about me\"\n",
    "stoplist = open(\"stoplist.txt\", \"r\").read().split()\n",
    "print(removeStopWords(text, stoplist))"
   ]
  },
  {
   "cell_type": "code",
   "execution_count": 3,
   "metadata": {},
   "outputs": [],
   "source": [
    "import string\n",
    "def removePunctuation(text):\n",
    "    return text.translate(str.maketrans(\"\",\"\", string.punctuation))"
   ]
  },
  {
   "cell_type": "code",
   "execution_count": 4,
   "metadata": {},
   "outputs": [
    {
     "name": "stdout",
     "output_type": "stream",
     "text": [
      "This is a text with punctuation \n"
     ]
    }
   ],
   "source": [
    "print(removePunctuation(\"This, is. a text! with?// punctuation !!!\"))"
   ]
  },
  {
   "cell_type": "code",
   "execution_count": 5,
   "metadata": {},
   "outputs": [
    {
     "name": "stdout",
     "output_type": "stream",
     "text": [
      "to lower case testtttt\n"
     ]
    }
   ],
   "source": [
    "print(\"TO LOWER CASe TestTTTT\".lower())"
   ]
  },
  {
   "cell_type": "code",
   "execution_count": 6,
   "metadata": {},
   "outputs": [],
   "source": [
    "def preprocess(text, stoplist):\n",
    "    # Removing stop words\n",
    "    text = ' '.join([i for i in text.split() if i not in stoplist])\n",
    "    \n",
    "    # Removing punctuation\n",
    "    text = text.translate(str.maketrans(\"\",\"\", string.punctuation))\n",
    "    \n",
    "    return text.lower()"
   ]
  },
  {
   "cell_type": "markdown",
   "metadata": {},
   "source": [
    "## Let us build the dataset"
   ]
  },
  {
   "cell_type": "code",
   "execution_count": 7,
   "metadata": {
    "scrolled": false
   },
   "outputs": [
    {
     "name": "stdout",
     "output_type": "stream",
     "text": [
      "                                                    doc label\n",
      "0     films adapted comic books plenty success  whet...     1\n",
      "1     every now movie comes along suspect studio  ev...     1\n",
      "2     got mail works alot better deserves  order mak...     1\n",
      "3      jaws  rare film grabs attention shows single ...     1\n",
      "4     moviemaking lot like general manager nfl team ...     1\n",
      "5     june 30  1960  selftaught  idealistic  yet pra...     1\n",
      "6     apparently  director tony kaye major battle ne...     1\n",
      "7     one colleagues surprised told willing see bets...     1\n",
      "8     bloody clashes independence won  lumumba refus...     1\n",
      "9     american action film slowly drowning death sea...     1\n",
      "10    watching  rat race  last week  noticed cheeks ...     1\n",
      "11    noticed something lately never thought  pseudo...     1\n",
      "12    synopsis  bobby garfield  yelchin  lives small...     1\n",
      "13    synopsis  movie  steven spielberg  one todays ...     1\n",
      "14    police negotiator person entirely unenviable j...     1\n",
      "15    plot  young man loves heavy metal music especi...     1\n",
      "16    carry matron last great carryon film opinion  ...     1\n",
      "17    ultimate match good evil   untouchables  excel...     1\n",
      "18    seen   framed roger rabbit  10 years  remember...     1\n",
      "19    something ben stiller makes popular choice amo...     1\n",
      "20    phil curtolo mel gibson  braveheart  gave grip...     1\n",
      "21    one can observe star trek movie expect see ser...     1\n",
      "22    fully loaded entertainment review  website com...     1\n",
      "23    bulworth ended  allowed sigh relief   possible...     1\n",
      "24    call 911 cliche police must  eyes window soul ...     1\n",
      "25    hilarious  ultralow budget comedy film school ...     1\n",
      "26    us yet born 1960s rock n rolled around  monter...     1\n",
      "27    common  many cases  complaint francis ford cop...     1\n",
      "28     blair witch project  perhaps one kind  unique...     1\n",
      "29    seen may 31  1999 home video  rented   one bes...     1\n",
      "...                                                 ...   ...\n",
      "1970   disney sticktowhatyoudobest  rule states disn...     0\n",
      "1971  twin surfer dudes  stew phil deedle  lay banda...     0\n",
      "1972  bicentennial man family film without external ...     0\n",
      "1973  continuation warner brothers franchise  joel s...     0\n",
      "1974  long ago  films constructed strong dialogue  o...     0\n",
      "1975  stars  armand assante  mike hammer   barbara c...     0\n",
      "1976  nostalgia 70s continues  see revival one decad...     0\n",
      "1977  saw film christmas day expecting upbeat comedy...     0\n",
      "1978  anna king least fourth film adaptation margare...     0\n",
      "1979  robin hood  men tights another melbrooksproduc...     0\n",
      "1980  successful books movies  michael crichton well...     0\n",
      "1981  director luis mandokis last film superb  serio...     0\n",
      "1982  remember really enjoying movie saw years ago  ...     0\n",
      "1983  tommy lee jones chases innocent victim around ...     0\n",
      "1984  fond writers use cheap  easy puns  completely ...     0\n",
      "1985  boy  great movie   keanu reeves morgan freeman...     0\n",
      "1986  us think leslie nielsen bumbling  hapless stra...     0\n",
      "1987  please mind windbag letting bit steam    just ...     0\n",
      "1988  movie written man deemed  one hottest writers ...     0\n",
      "1989  typical cinematic high school  football jocks ...     0\n",
      "1990  man  one wierd movie  similar conspiracy theor...     0\n",
      "1991  king  warner brothers animated  musical featur...     0\n",
      "1992  synopsis  cromagnon ayla loses mother earthqua...     0\n",
      "1993  salaries hollywood top actors getting obscenel...     0\n",
      "1994  movies like six days  seven nights make mad ta...     0\n",
      "1995  anything   stigmata  taken warning releasing s...     0\n",
      "1996  john boormans  zardoz  goofy cinematic debacle...     0\n",
      "1997  kids hall acquired taste  took least season wa...     0\n",
      "1998  time john carpenter great horror director  cou...     0\n",
      "1999  two party guys bob heads haddaways dance hit  ...     0\n",
      "\n",
      "[2000 rows x 2 columns]\n"
     ]
    }
   ],
   "source": [
    "import os, sys\n",
    "import pandas as pd\n",
    "\n",
    "corpus = pd.DataFrame(columns=['doc', 'label'])\n",
    "\n",
    "stoplist = open(\"stoplist.txt\", \"r\").read().split()\n",
    "\n",
    "for file_name in os.listdir('./txt_sentoken/pos'):\n",
    "    file = open('./txt_sentoken/pos/' + file_name)\n",
    "    corpus = corpus.append(pd.DataFrame({'doc':[preprocess(file.read(), stoplist)], 'label':[1]}), ignore_index=True)\n",
    "\n",
    "    \n",
    "for file_name in os.listdir('./txt_sentoken/neg'):\n",
    "    file = open('./txt_sentoken/neg/' + file_name)\n",
    "    corpus = corpus.append(pd.DataFrame({'doc':[preprocess(file.read(), stoplist)], 'label':[0]}), ignore_index=True)\n",
    "\n",
    "print(corpus)\n"
   ]
  },
  {
   "cell_type": "code",
   "execution_count": 8,
   "metadata": {},
   "outputs": [
    {
     "data": {
      "text/plain": [
       "2"
      ]
     },
     "execution_count": 8,
     "metadata": {},
     "output_type": "execute_result"
    }
   ],
   "source": [
    "def tf(term, document):\n",
    "    return document.split().count(term)\n",
    "\n",
    "tf('tree', preprocess(\"this is a tree, and a big tree, not a three\", stoplist))"
   ]
  },
  {
   "cell_type": "code",
   "execution_count": 9,
   "metadata": {},
   "outputs": [],
   "source": [
    "import numpy as np\n",
    "\n",
    "def idf(term, corpus):\n",
    "    return np.log(len(corpus['doc'])/len(corpus[corpus['doc'].str.contains(term)]))"
   ]
  },
  {
   "cell_type": "code",
   "execution_count": 12,
   "metadata": {},
   "outputs": [
    {
     "data": {
      "text/plain": [
       "(2000, 47422)"
      ]
     },
     "execution_count": 12,
     "metadata": {},
     "output_type": "execute_result"
    }
   ],
   "source": [
    "from sklearn.feature_extraction.text import TfidfVectorizer\n",
    "\n",
    "vectorizer = TfidfVectorizer()\n",
    "\n",
    "result = vectorizer.fit_transform(corpus['doc'])\n",
    "\n",
    "result.shape"
   ]
  },
  {
   "cell_type": "code",
   "execution_count": 16,
   "metadata": {},
   "outputs": [
    {
     "name": "stdout",
     "output_type": "stream",
     "text": [
      "start\n",
      "started tf_idf\n"
     ]
    },
    {
     "ename": "KeyboardInterrupt",
     "evalue": "",
     "output_type": "error",
     "traceback": [
      "\u001b[1;31m---------------------------------------------------------------------------\u001b[0m",
      "\u001b[1;31mKeyboardInterrupt\u001b[0m                         Traceback (most recent call last)",
      "\u001b[1;32m<ipython-input-16-07ddfd80b0a0>\u001b[0m in \u001b[0;36m<module>\u001b[1;34m\u001b[0m\n\u001b[0;32m     25\u001b[0m \u001b[1;33m\u001b[0m\u001b[0m\n\u001b[0;32m     26\u001b[0m \u001b[1;33m\u001b[0m\u001b[0m\n\u001b[1;32m---> 27\u001b[1;33m \u001b[0mprint\u001b[0m\u001b[1;33m(\u001b[0m\u001b[0mtf_idf\u001b[0m\u001b[1;33m(\u001b[0m\u001b[0mcorpus\u001b[0m\u001b[1;33m)\u001b[0m\u001b[1;33m)\u001b[0m\u001b[1;33m\u001b[0m\u001b[0m\n\u001b[0m",
      "\u001b[1;32m<ipython-input-16-07ddfd80b0a0>\u001b[0m in \u001b[0;36mtf_idf\u001b[1;34m(corpus)\u001b[0m\n\u001b[0;32m     19\u001b[0m         \u001b[0mdoc\u001b[0m \u001b[1;33m=\u001b[0m \u001b[0mcorpus\u001b[0m\u001b[1;33m.\u001b[0m\u001b[0miloc\u001b[0m\u001b[1;33m[\u001b[0m\u001b[0mdoc_idx\u001b[0m\u001b[1;33m]\u001b[0m\u001b[1;33m[\u001b[0m\u001b[1;34m'doc'\u001b[0m\u001b[1;33m]\u001b[0m\u001b[1;33m\u001b[0m\u001b[0m\n\u001b[0;32m     20\u001b[0m         \u001b[1;32mfor\u001b[0m \u001b[0mword\u001b[0m \u001b[1;32min\u001b[0m \u001b[0mwords\u001b[0m\u001b[1;33m:\u001b[0m\u001b[1;33m\u001b[0m\u001b[0m\n\u001b[1;32m---> 21\u001b[1;33m             \u001b[0mtf_idfs\u001b[0m\u001b[1;33m.\u001b[0m\u001b[0mat\u001b[0m\u001b[1;33m[\u001b[0m\u001b[0mdoc_idx\u001b[0m\u001b[1;33m,\u001b[0m \u001b[0mword\u001b[0m\u001b[1;33m]\u001b[0m \u001b[1;33m=\u001b[0m \u001b[0mtf\u001b[0m\u001b[1;33m(\u001b[0m\u001b[0mword\u001b[0m\u001b[1;33m,\u001b[0m \u001b[0mdoc\u001b[0m\u001b[1;33m)\u001b[0m \u001b[1;33m*\u001b[0m \u001b[0midfs\u001b[0m\u001b[1;33m[\u001b[0m\u001b[0mword\u001b[0m\u001b[1;33m]\u001b[0m\u001b[1;33m\u001b[0m\u001b[0m\n\u001b[0m\u001b[0;32m     22\u001b[0m     \u001b[0mprint\u001b[0m\u001b[1;33m(\u001b[0m\u001b[1;34m'finished'\u001b[0m\u001b[1;33m)\u001b[0m\u001b[1;33m\u001b[0m\u001b[0m\n\u001b[0;32m     23\u001b[0m \u001b[1;33m\u001b[0m\u001b[0m\n",
      "\u001b[1;32mc:\\users\\sdolo\\appdata\\local\\programs\\python\\python36\\lib\\site-packages\\pandas\\core\\indexing.py\u001b[0m in \u001b[0;36m__setitem__\u001b[1;34m(self, key, value)\u001b[0m\n\u001b[0;32m   2145\u001b[0m         \u001b[1;32mif\u001b[0m \u001b[0misinstance\u001b[0m\u001b[1;33m(\u001b[0m\u001b[0mkey\u001b[0m\u001b[1;33m,\u001b[0m \u001b[0mtuple\u001b[0m\u001b[1;33m)\u001b[0m\u001b[1;33m:\u001b[0m\u001b[1;33m\u001b[0m\u001b[0m\n\u001b[0;32m   2146\u001b[0m             key = tuple(com._apply_if_callable(x, self.obj)\n\u001b[1;32m-> 2147\u001b[1;33m                         for x in key)\n\u001b[0m\u001b[0;32m   2148\u001b[0m         \u001b[1;32melse\u001b[0m\u001b[1;33m:\u001b[0m\u001b[1;33m\u001b[0m\u001b[0m\n\u001b[0;32m   2149\u001b[0m             \u001b[1;31m# scalar callable may return tuple\u001b[0m\u001b[1;33m\u001b[0m\u001b[1;33m\u001b[0m\u001b[0m\n",
      "\u001b[1;32mc:\\users\\sdolo\\appdata\\local\\programs\\python\\python36\\lib\\site-packages\\pandas\\core\\indexing.py\u001b[0m in \u001b[0;36m<genexpr>\u001b[1;34m(.0)\u001b[0m\n\u001b[0;32m   2145\u001b[0m         \u001b[1;32mif\u001b[0m \u001b[0misinstance\u001b[0m\u001b[1;33m(\u001b[0m\u001b[0mkey\u001b[0m\u001b[1;33m,\u001b[0m \u001b[0mtuple\u001b[0m\u001b[1;33m)\u001b[0m\u001b[1;33m:\u001b[0m\u001b[1;33m\u001b[0m\u001b[0m\n\u001b[0;32m   2146\u001b[0m             key = tuple(com._apply_if_callable(x, self.obj)\n\u001b[1;32m-> 2147\u001b[1;33m                         for x in key)\n\u001b[0m\u001b[0;32m   2148\u001b[0m         \u001b[1;32melse\u001b[0m\u001b[1;33m:\u001b[0m\u001b[1;33m\u001b[0m\u001b[0m\n\u001b[0;32m   2149\u001b[0m             \u001b[1;31m# scalar callable may return tuple\u001b[0m\u001b[1;33m\u001b[0m\u001b[1;33m\u001b[0m\u001b[0m\n",
      "\u001b[1;32mc:\\users\\sdolo\\appdata\\local\\programs\\python\\python36\\lib\\site-packages\\pandas\\core\\common.py\u001b[0m in \u001b[0;36m_apply_if_callable\u001b[1;34m(maybe_callable, obj, **kwargs)\u001b[0m\n\u001b[0;32m    405\u001b[0m     \"\"\"\n\u001b[0;32m    406\u001b[0m \u001b[1;33m\u001b[0m\u001b[0m\n\u001b[1;32m--> 407\u001b[1;33m     \u001b[1;32mif\u001b[0m \u001b[0mcallable\u001b[0m\u001b[1;33m(\u001b[0m\u001b[0mmaybe_callable\u001b[0m\u001b[1;33m)\u001b[0m\u001b[1;33m:\u001b[0m\u001b[1;33m\u001b[0m\u001b[0m\n\u001b[0m\u001b[0;32m    408\u001b[0m         \u001b[1;32mreturn\u001b[0m \u001b[0mmaybe_callable\u001b[0m\u001b[1;33m(\u001b[0m\u001b[0mobj\u001b[0m\u001b[1;33m,\u001b[0m \u001b[1;33m**\u001b[0m\u001b[0mkwargs\u001b[0m\u001b[1;33m)\u001b[0m\u001b[1;33m\u001b[0m\u001b[0m\n\u001b[0;32m    409\u001b[0m \u001b[1;33m\u001b[0m\u001b[0m\n",
      "\u001b[1;31mKeyboardInterrupt\u001b[0m: "
     ]
    }
   ],
   "source": [
    "import pandas as pd\n",
    "\n",
    "def tf_idf(corpus):\n",
    "    print(\"start\")\n",
    "    words = set()\n",
    "    for doc in corpus['doc']:\n",
    "        for word in doc.split():\n",
    "            words.add(word)\n",
    "    \n",
    "    tf_idfs = pd.DataFrame(index=range(corpus.shape[0]-1), columns=words)\n",
    "    \n",
    "    idfs = {}\n",
    "    for word in words:\n",
    "        idfs[word] = idf(word, corpus)\n",
    "    \n",
    "    print('started tf_idf')\n",
    "    \n",
    "    for doc_idx in range(corpus.shape[0]):\n",
    "        doc = corpus.iloc[doc_idx]['doc']\n",
    "        for word in words:\n",
    "            tf_idfs.at[doc_idx, word] = tf(word, doc) * idfs[word]\n",
    "    print('finished')\n",
    "            \n",
    "    return tf_idfs\n",
    "        \n",
    "    \n",
    "print(tf_idf(corpus))"
   ]
  },
  {
   "cell_type": "code",
   "execution_count": null,
   "metadata": {},
   "outputs": [],
   "source": []
  }
 ],
 "metadata": {
  "kernelspec": {
   "display_name": "Python 3",
   "language": "python",
   "name": "python3"
  },
  "language_info": {
   "codemirror_mode": {
    "name": "ipython",
    "version": 3
   },
   "file_extension": ".py",
   "mimetype": "text/x-python",
   "name": "python",
   "nbconvert_exporter": "python",
   "pygments_lexer": "ipython3",
   "version": "3.6.5"
  }
 },
 "nbformat": 4,
 "nbformat_minor": 2
}
